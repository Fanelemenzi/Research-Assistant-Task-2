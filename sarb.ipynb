{
 "cells": [
  {
   "cell_type": "code",
   "execution_count": 25,
   "metadata": {},
   "outputs": [
    {
     "name": "stderr",
     "output_type": "stream",
     "text": [
      "<>:4: SyntaxWarning: invalid escape sequence '\\C'\n",
      "<>:4: SyntaxWarning: invalid escape sequence '\\C'\n",
      "C:\\Users\\26878\\AppData\\Local\\Temp\\ipykernel_25504\\2661146090.py:4: SyntaxWarning: invalid escape sequence '\\C'\n",
      "  sarb_dataset1 = pd.read_csv('F:\\Coding Projects\\SARB Dataset\\SARB_BankingData.csv')\n"
     ]
    },
    {
     "name": "stdout",
     "output_type": "stream",
     "text": [
      "      Unnamed: 0  KBP1000M  KBP1005M  KBP1006M  KBP1007M  KBP1008M  KBP1009M  \\\n",
      "0       19221200       NaN       NaN       NaN       NaN       NaN       NaN   \n",
      "1       19230100       NaN       NaN       NaN       NaN       NaN       NaN   \n",
      "2       19230200       NaN       NaN       NaN       NaN       NaN       NaN   \n",
      "3       19230300       NaN       NaN       NaN       NaN       NaN       NaN   \n",
      "4       19230400       NaN       NaN       NaN       NaN       NaN       NaN   \n",
      "...          ...       ...       ...       ...       ...       ...       ...   \n",
      "1191    20220300  171097.0   10826.0   64530.0    2651.0  339264.0      26.0   \n",
      "1192    20220400  170768.0     505.0   87358.0    2645.0  407902.0      31.0   \n",
      "1193    20220500  171675.0    3546.0   72148.0    2723.0  381060.0      31.0   \n",
      "1194    20220600  170603.0    8553.0   71648.0    2738.0  385001.0      33.0   \n",
      "1195    20220700  168255.0    8671.0   60935.0    3137.0  375753.0      34.0   \n",
      "\n",
      "      KBP1010M  KBP1011M   KBP1012M  ...  KBP1644M  KBP1645M  KBP1646M  \\\n",
      "0          NaN       NaN        NaN  ...       NaN       NaN       NaN   \n",
      "1          NaN       NaN        NaN  ...       NaN       NaN       NaN   \n",
      "2          NaN       NaN        NaN  ...       NaN       NaN       NaN   \n",
      "3          NaN       NaN        NaN  ...       NaN       NaN       NaN   \n",
      "4          NaN       NaN        NaN  ...       NaN       NaN       NaN   \n",
      "...        ...       ...        ...  ...       ...       ...       ...   \n",
      "1191     461.0  436547.0   951202.0  ...      9.37     11.62      9.51   \n",
      "1192     461.0  489520.0  1071239.0  ...      9.36     11.61      9.52   \n",
      "1193     461.0  472507.0  1026836.0  ...      9.60     11.62      9.65   \n",
      "1194     461.0  503943.0  1060342.0  ...      9.59     11.59      9.65   \n",
      "1195     461.0  512017.0  1056519.0  ...       NaN       NaN       NaN   \n",
      "\n",
      "      KBP1647M  KBP1648M  KBP1649M  KBP1650M  KBP1651M  KBP1652M  KBP1653M  \n",
      "0          NaN       NaN       NaN       NaN       NaN       NaN       NaN  \n",
      "1          NaN       NaN       NaN       NaN       NaN       NaN       NaN  \n",
      "2          NaN       NaN       NaN       NaN       NaN       NaN       NaN  \n",
      "3          NaN       NaN       NaN       NaN       NaN       NaN       NaN  \n",
      "4          NaN       NaN       NaN       NaN       NaN       NaN       NaN  \n",
      "...        ...       ...       ...       ...       ...       ...       ...  \n",
      "1191      9.56      6.92      7.66      8.10      8.17      6.27      7.16  \n",
      "1192      9.56      6.94      7.70      8.37      8.18      6.31      7.19  \n",
      "1193      9.58      7.29      7.72      8.22      8.37      6.52      7.41  \n",
      "1194      9.61      7.36      7.82      8.32      8.35      6.62      7.48  \n",
      "1195       NaN       NaN       NaN       NaN       NaN       NaN       NaN  \n",
      "\n",
      "[1196 rows x 352 columns]\n"
     ]
    }
   ],
   "source": [
    "import pandas as pd\n",
    "\n",
    "\n",
    "sarb_dataset1 = pd.read_csv('F:\\Coding Projects\\SARB Dataset\\SARB_BankingData.csv')\n",
    "print(sarb_dataset1)\n"
   ]
  },
  {
   "cell_type": "code",
   "execution_count": 26,
   "metadata": {},
   "outputs": [
    {
     "name": "stdout",
     "output_type": "stream",
     "text": [
      "          Date  KBP1000M  KBP1005M  KBP1006M  KBP1007M  KBP1008M  KBP1009M  \\\n",
      "0     19221200       NaN       NaN       NaN       NaN       NaN       NaN   \n",
      "1     19230100       NaN       NaN       NaN       NaN       NaN       NaN   \n",
      "2     19230200       NaN       NaN       NaN       NaN       NaN       NaN   \n",
      "3     19230300       NaN       NaN       NaN       NaN       NaN       NaN   \n",
      "4     19230400       NaN       NaN       NaN       NaN       NaN       NaN   \n",
      "...        ...       ...       ...       ...       ...       ...       ...   \n",
      "1191  20220300  171097.0   10826.0   64530.0    2651.0  339264.0      26.0   \n",
      "1192  20220400  170768.0     505.0   87358.0    2645.0  407902.0      31.0   \n",
      "1193  20220500  171675.0    3546.0   72148.0    2723.0  381060.0      31.0   \n",
      "1194  20220600  170603.0    8553.0   71648.0    2738.0  385001.0      33.0   \n",
      "1195  20220700  168255.0    8671.0   60935.0    3137.0  375753.0      34.0   \n",
      "\n",
      "      KBP1010M  KBP1011M   KBP1012M  ...  KBP1644M  KBP1645M  KBP1646M  \\\n",
      "0          NaN       NaN        NaN  ...       NaN       NaN       NaN   \n",
      "1          NaN       NaN        NaN  ...       NaN       NaN       NaN   \n",
      "2          NaN       NaN        NaN  ...       NaN       NaN       NaN   \n",
      "3          NaN       NaN        NaN  ...       NaN       NaN       NaN   \n",
      "4          NaN       NaN        NaN  ...       NaN       NaN       NaN   \n",
      "...        ...       ...        ...  ...       ...       ...       ...   \n",
      "1191     461.0  436547.0   951202.0  ...      9.37     11.62      9.51   \n",
      "1192     461.0  489520.0  1071239.0  ...      9.36     11.61      9.52   \n",
      "1193     461.0  472507.0  1026836.0  ...      9.60     11.62      9.65   \n",
      "1194     461.0  503943.0  1060342.0  ...      9.59     11.59      9.65   \n",
      "1195     461.0  512017.0  1056519.0  ...       NaN       NaN       NaN   \n",
      "\n",
      "      KBP1647M  KBP1648M  KBP1649M  KBP1650M  KBP1651M  KBP1652M  KBP1653M  \n",
      "0          NaN       NaN       NaN       NaN       NaN       NaN       NaN  \n",
      "1          NaN       NaN       NaN       NaN       NaN       NaN       NaN  \n",
      "2          NaN       NaN       NaN       NaN       NaN       NaN       NaN  \n",
      "3          NaN       NaN       NaN       NaN       NaN       NaN       NaN  \n",
      "4          NaN       NaN       NaN       NaN       NaN       NaN       NaN  \n",
      "...        ...       ...       ...       ...       ...       ...       ...  \n",
      "1191      9.56      6.92      7.66      8.10      8.17      6.27      7.16  \n",
      "1192      9.56      6.94      7.70      8.37      8.18      6.31      7.19  \n",
      "1193      9.58      7.29      7.72      8.22      8.37      6.52      7.41  \n",
      "1194      9.61      7.36      7.82      8.32      8.35      6.62      7.48  \n",
      "1195       NaN       NaN       NaN       NaN       NaN       NaN       NaN  \n",
      "\n",
      "[1196 rows x 352 columns]\n"
     ]
    }
   ],
   "source": [
    "#naming 1st column as date\n",
    "sarb_dataset2 = sarb_dataset1.rename(columns={sarb_dataset1.columns[0]: \"Date\"})\n",
    "print(sarb_dataset2)"
   ]
  },
  {
   "cell_type": "code",
   "execution_count": 27,
   "metadata": {},
   "outputs": [],
   "source": [
    "selected_columns = ['Date','KBP1120M', 'KBP1078M', 'KBP1514M', 'KBP1081M', 'KBP1080M', 'KBP1090M']\n",
    "selected_dataset = sarb_dataset2[selected_columns]"
   ]
  },
  {
   "cell_type": "code",
   "execution_count": 28,
   "metadata": {},
   "outputs": [],
   "source": [
    "cleaned_selected_dataset = selected_dataset.dropna().reset_index(drop=True)"
   ]
  },
  {
   "cell_type": "code",
   "execution_count": 30,
   "metadata": {},
   "outputs": [
    {
     "name": "stdout",
     "output_type": "stream",
     "text": [
      "         Date  KBP1120M  KBP1078M  KBP1514M  KBP1081M  KBP1080M   KBP1090M\n",
      "0    19910700    9579.0    1439.0      46.0    1818.0    7196.0   253705.0\n",
      "1    19910800   10449.0     511.0     101.0    1430.0    9598.0   249712.0\n",
      "2    19910900   10126.0     598.0      94.0     837.0    9616.0   250549.0\n",
      "3    19911000   10694.0     582.0      54.0    1265.0    9180.0   248449.0\n",
      "4    19911100   10658.0     630.0      54.0    1163.0    9401.0   256664.0\n",
      "..        ...       ...       ...       ...       ...       ...        ...\n",
      "367  20220200  375180.0  282175.0   30921.0  107894.0    6874.0  6700810.0\n",
      "368  20220300  363701.0  274617.0   31351.0  107147.0    8201.0  6821604.0\n",
      "369  20220400  382801.0  283975.0   30672.0  113881.0    8042.0  6845765.0\n",
      "370  20220500  399012.0  280131.0   63504.0  121985.0   10289.0  6903886.0\n",
      "371  20220600  412251.0  305151.0   73882.0  116235.0    7958.0  7059490.0\n",
      "\n",
      "[372 rows x 7 columns]\n"
     ]
    }
   ],
   "source": [
    "print(cleaned_selected_dataset)\n",
    "#cleaned_selected_dataset.to_csv('final_dataset.csv', index=False)"
   ]
  },
  {
   "cell_type": "code",
   "execution_count": 32,
   "metadata": {},
   "outputs": [
    {
     "name": "stdout",
     "output_type": "stream",
     "text": [
      "         Date  KBP1120M  KBP1078M  KBP1514M  KBP1081M  KBP1080M   KBP1090M\n",
      "236  20110300  139365.0   57301.0   13699.0   44844.0    7510.0  3071955.0\n",
      "237  20110400  129207.0   72721.0   15215.0   44566.0    6390.0  3092030.0\n",
      "238  20110500  145567.0   70697.0    9249.0   44256.0    8509.0  3069520.0\n",
      "239  20110600  160142.0   70728.0    7678.0   55660.0    8189.0  3114937.0\n",
      "240  20110700  146288.0   64995.0    8370.0   48073.0    8182.0  3147549.0\n",
      "..        ...       ...       ...       ...       ...       ...        ...\n",
      "362  20210900  374268.0  262433.0   29607.0  113913.0    3997.0  6605679.0\n",
      "363  20211000  351632.0  260099.0   35255.0  111861.0    2341.0  6593024.0\n",
      "364  20211100  377717.0  270218.0   26520.0  108767.0    3016.0  6778981.0\n",
      "365  20211200  370770.0  273682.0   24768.0  113820.0    5995.0  6716215.0\n",
      "366  20220100  355347.0  277631.0   27000.0  101458.0    7879.0  6622697.0\n",
      "\n",
      "[131 rows x 7 columns]\n"
     ]
    }
   ],
   "source": [
    "sarb_dataset3 = cleaned_selected_dataset.iloc[236:367]\n",
    "print(sarb_dataset3)"
   ]
  },
  {
   "cell_type": "code",
   "execution_count": 35,
   "metadata": {},
   "outputs": [
    {
     "name": "stderr",
     "output_type": "stream",
     "text": [
      "C:\\Users\\26878\\AppData\\Local\\Temp\\ipykernel_25504\\1907815972.py:6: SettingWithCopyWarning: \n",
      "A value is trying to be set on a copy of a slice from a DataFrame.\n",
      "Try using .loc[row_indexer,col_indexer] = value instead\n",
      "\n",
      "See the caveats in the documentation: https://pandas.pydata.org/pandas-docs/stable/user_guide/indexing.html#returning-a-view-versus-a-copy\n",
      "  sarb_dataset3['Net FX Exposure'] = (\n"
     ]
    }
   ],
   "source": [
    "# Assuming your dataset is in a CSV file named \"bank_data.csv\"\n",
    "# Adjust the file name if needed\n",
    "#sarb_dataset3 = pd.read_csv('F:\\Coding Projects\\SARB Dataset\\final_dataset.csv')\n",
    "\n",
    "# Calculate Net FX Exposure\n",
    "sarb_dataset3['Net FX Exposure'] = (\n",
    "    sarb_dataset3['KBP1120M'] - (sarb_dataset3['KBP1078M'] + sarb_dataset3['KBP1514M'] + sarb_dataset3['KBP1081M'] + sarb_dataset3['KBP1080M'])\n",
    ") / sarb_dataset3['KBP1090M']\n",
    "\n"
   ]
  },
  {
   "cell_type": "code",
   "execution_count": 38,
   "metadata": {},
   "outputs": [
    {
     "name": "stdout",
     "output_type": "stream",
     "text": [
      "         Date  Net FX Exposure\n",
      "236  20110300         0.005212\n",
      "237  20110400        -0.003132\n",
      "238  20110500         0.004188\n",
      "239  20110600         0.005742\n",
      "240  20110700         0.005296\n",
      "..        ...              ...\n",
      "362  20210900        -0.005402\n",
      "363  20211000        -0.008786\n",
      "364  20211100        -0.004544\n",
      "365  20211200        -0.007072\n",
      "366  20220100        -0.008852\n",
      "\n",
      "[131 rows x 2 columns]\n"
     ]
    }
   ],
   "source": [
    "# Output to a new CSV file (optional)\n",
    "sarb_dataset3.to_csv('bank_data_with_exposure.csv', index=False)\n",
    "\n",
    "# Print the results (optional)\n",
    "print(sarb_dataset3[['Date', 'Net FX Exposure']])"
   ]
  },
  {
   "cell_type": "code",
   "execution_count": 45,
   "metadata": {},
   "outputs": [
    {
     "data": {
      "image/png": "[encoded data removed]",
      "text/plain": [
       "<Figure size 640x480 with 1 Axes>"
      ]
     },
     "metadata": {},
     "output_type": "display_data"
    }
   ],
   "source": [
    "import matplotlib.pyplot as plt \n",
    "\n",
    "sarb_dataset3.plot(x=\"Date\", y=\"Net FX Exposure\", kind=\"line\", linestyle=\"--\",)\n",
    "plt.axhline(y=0.000, color='b', linestyle=\"-\")\n",
    "plt.show()"
   ]
  }
 ],
 "metadata": {
  "kernelspec": {
   "display_name": "Python 3",
   "language": "python",
   "name": "python3"
  },
  "language_info": {
   "codemirror_mode": {
    "name": "ipython",
    "version": 3
   },
   "file_extension": ".py",
   "mimetype": "text/x-python",
   "name": "python",
   "nbconvert_exporter": "python",
   "pygments_lexer": "ipython3",
   "version": "3.12.4"
  }
 },
 "nbformat": 4,
 "nbformat_minor": 2
}
